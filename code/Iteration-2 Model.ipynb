{
 "cells": [
  {
   "cell_type": "markdown",
   "metadata": {},
   "source": [
    "# Importing Libraries"
   ]
  },
  {
   "cell_type": "code",
   "execution_count": null,
   "metadata": {},
   "outputs": [],
   "source": [
    "import pandas as pd\n",
    "import numpy as np\n",
    "import matplotlib.pyplot as plt\n",
    "import sklearn.linear_model as skl_lm\n",
    "from sklearn.model_selection import train_test_split, cross_val_score, LeaveOneOut\n",
    "from pandas.plotting import scatter_matrix\n",
    "from sklearn.preprocessing import StandardScaler\n",
    "from sklearn.cross_validation import train_test_split\n",
    "\n",
    "%matplotlib inline"
   ]
  },
  {
   "cell_type": "markdown",
   "metadata": {},
   "source": [
    "# Loading Dataset"
   ]
  },
  {
   "cell_type": "code",
   "execution_count": null,
   "metadata": {},
   "outputs": [],
   "source": [
    "df = pd.read_csv('iBeacon_RSSI_Labeled.csv')"
   ]
  },
  {
   "cell_type": "code",
   "execution_count": null,
   "metadata": {
    "scrolled": true
   },
   "outputs": [],
   "source": [
    "#Dropping Date Column\n",
    "df=df.drop(['date'], axis=1)\n",
    "#df"
   ]
  },
  {
   "cell_type": "code",
   "execution_count": null,
   "metadata": {},
   "outputs": [],
   "source": [
    "#Creating X and y\n",
    "X= df.iloc[:, 1:]\n",
    "y= df['location']"
   ]
  },
  {
   "cell_type": "markdown",
   "metadata": {},
   "source": [
    "\n",
    "## Encoding X"
   ]
  },
  {
   "cell_type": "code",
   "execution_count": null,
   "metadata": {
    "scrolled": true
   },
   "outputs": [],
   "source": [
    "# Converting X into positive values\n",
    "X.iloc[:,:]= (X.iloc[:, :] + 200)\n",
    "# Normalizing X\n",
    "from sklearn.preprocessing import StandardScaler\n",
    "scaler = StandardScaler()\n",
    "X_scale = scaler.fit_transform(X)\n",
    "X.iloc[:,:] = X_scale\n",
    "X"
   ]
  },
  {
   "cell_type": "code",
   "execution_count": null,
   "metadata": {
    "scrolled": true
   },
   "outputs": [],
   "source": [
    "df['loc1'] = df.location.str[:1]\n",
    "df['loc2'] = df.location.str[1:]\n",
    "df"
   ]
  },
  {
   "cell_type": "markdown",
   "metadata": {},
   "source": [
    "## Encoding y1 (x-coordinate)"
   ]
  },
  {
   "cell_type": "code",
   "execution_count": null,
   "metadata": {
    "scrolled": true
   },
   "outputs": [],
   "source": [
    "#Creating y1\n",
    "y1= df['loc1']\n",
    "y1"
   ]
  },
  {
   "cell_type": "code",
   "execution_count": null,
   "metadata": {
    "scrolled": true
   },
   "outputs": [],
   "source": [
    "def encode1(x):\n",
    "    if x is 'D':\n",
    "        x=2\n",
    "    elif x is'E': \n",
    "        x=3\n",
    "    elif x is'F': \n",
    "        x=3\n",
    "    elif x is'G': \n",
    "        x=4\n",
    "    elif x is'I': \n",
    "        x=5\n",
    "    elif x is'J': \n",
    "        x=5\n",
    "    elif x is'K': \n",
    "        x=6\n",
    "    elif x is'L': \n",
    "        x=6\n",
    "    elif x is'M': \n",
    "        x=7\n",
    "    elif x is'N': \n",
    "        x=7\n",
    "    elif x is'O': \n",
    "        x=8\n",
    "    elif x is'P': \n",
    "        x=8\n",
    "    elif x is'Q': \n",
    "        x=9\n",
    "    elif x is'R': \n",
    "        x=9\n",
    "    elif x is'S': \n",
    "        x=10\n",
    "    elif x is'T': \n",
    "        x=10\n",
    "    elif x is'U': \n",
    "        x=11\n",
    "    elif x is'V': \n",
    "        x=11\n",
    "    elif x is'W': \n",
    "        x=12    \n",
    "    return x\n",
    "\n",
    "y1=y1.apply(encode1)\n",
    "y1= y1.to_frame()\n",
    "y1"
   ]
  },
  {
   "cell_type": "code",
   "execution_count": null,
   "metadata": {},
   "outputs": [],
   "source": [
    "a=y1[\"loc1\"].unique()\n",
    "print(np.sort(a))"
   ]
  },
  {
   "cell_type": "markdown",
   "metadata": {},
   "source": [
    "## Encoding y2 (y-coordinate)"
   ]
  },
  {
   "cell_type": "code",
   "execution_count": null,
   "metadata": {
    "scrolled": true
   },
   "outputs": [],
   "source": [
    "#Creating y2\n",
    "y2= df['loc2']\n",
    "y2=y2.astype(int)\n",
    "y2"
   ]
  },
  {
   "cell_type": "code",
   "execution_count": null,
   "metadata": {
    "scrolled": true
   },
   "outputs": [],
   "source": [
    "def encode2(x):\n",
    "    if x is 1:\n",
    "        x=1\n",
    "    elif x is 2: \n",
    "        x=1\n",
    "    elif x is 3: \n",
    "        x=2\n",
    "    elif x is 4: \n",
    "        x=2\n",
    "    elif x is 5: \n",
    "        x=3\n",
    "    elif x is 6: \n",
    "        x=3\n",
    "    elif x is 7: \n",
    "        x=4\n",
    "    elif x is 8: \n",
    "        x=4\n",
    "    elif x is 9: \n",
    "        x=5\n",
    "    elif x is 10: \n",
    "        x=5\n",
    "    elif x is 11: \n",
    "        x=6\n",
    "    elif x is 12: \n",
    "        x=6\n",
    "    elif x is 13: \n",
    "        x=7\n",
    "    elif x is 14: \n",
    "        x=7\n",
    "    elif x is 15: \n",
    "        x=8\n",
    "    elif x is 16: \n",
    "        x=8\n",
    "    elif x is 17: \n",
    "        x=9\n",
    "    elif x is 18: \n",
    "        x=9      \n",
    "    return x\n",
    "\n",
    "\n",
    "y2=y2.apply(encode2)\n",
    "y2= y2.to_frame()\n",
    "y2"
   ]
  },
  {
   "cell_type": "code",
   "execution_count": null,
   "metadata": {},
   "outputs": [],
   "source": [
    "b=y2[\"loc2\"].unique()\n",
    "print(np.sort(b))"
   ]
  },
  {
   "cell_type": "markdown",
   "metadata": {},
   "source": [
    "# Training for y1"
   ]
  },
  {
   "cell_type": "markdown",
   "metadata": {},
   "source": [
    "## Train Test Split"
   ]
  },
  {
   "cell_type": "code",
   "execution_count": null,
   "metadata": {},
   "outputs": [],
   "source": [
    "X_train, X_test, y_train, y_test = train_test_split(X,y1,test_size=0.2, random_state= 42)"
   ]
  },
  {
   "cell_type": "markdown",
   "metadata": {},
   "source": [
    "### K-NN"
   ]
  },
  {
   "cell_type": "code",
   "execution_count": null,
   "metadata": {
    "scrolled": true
   },
   "outputs": [],
   "source": [
    "# Fitting K-NN to the Training set\n",
    "from sklearn.neighbors import KNeighborsClassifier\n",
    "knn_classifier = KNeighborsClassifier(n_neighbors = 5)\n",
    "knn_classifier.fit(X_train, y_train)"
   ]
  },
  {
   "cell_type": "code",
   "execution_count": null,
   "metadata": {},
   "outputs": [],
   "source": [
    "# Predicting the Test Set Results\n",
    "y_predict=knn_classifier.predict(X_test)\n",
    "print('\\nPredicted positions: ', y_predict)"
   ]
  },
  {
   "cell_type": "code",
   "execution_count": null,
   "metadata": {},
   "outputs": [],
   "source": [
    "#Calculating Test Accuracy Score of the Classifier Model\n",
    "from sklearn.metrics import accuracy_score\n",
    "knn_accuracy=accuracy_score(y_test, y_predict)\n",
    "print('\\nThe Models Accuracy is', knn_accuracy)"
   ]
  },
  {
   "cell_type": "markdown",
   "metadata": {},
   "source": [
    "### SVM"
   ]
  },
  {
   "cell_type": "code",
   "execution_count": null,
   "metadata": {},
   "outputs": [],
   "source": [
    "# Fitting Kernel SVM to the Training set\n",
    "from sklearn.svm import SVC\n",
    "svm_classifier = SVC(kernel = 'rbf', random_state = 42, C=1000)\n",
    "\n",
    "svm_classifier.fit(X_train, y_train)"
   ]
  },
  {
   "cell_type": "code",
   "execution_count": null,
   "metadata": {},
   "outputs": [],
   "source": [
    "# Predicting the Test Set Results\n",
    "y_predict=svm_classifier.predict(X_test)\n",
    "print('\\nPredicted positions: ', y_predict)"
   ]
  },
  {
   "cell_type": "code",
   "execution_count": null,
   "metadata": {},
   "outputs": [],
   "source": [
    "#Calculating Accuracy Score of the Classifier Model\n",
    "from sklearn.metrics import accuracy_score\n",
    "svm_accuracy=accuracy_score(y_test, y_predict)\n",
    "print('\\nThe Models Accuracy is', svm_accuracy)"
   ]
  },
  {
   "cell_type": "markdown",
   "metadata": {},
   "source": [
    "### Random Forest"
   ]
  },
  {
   "cell_type": "code",
   "execution_count": null,
   "metadata": {},
   "outputs": [],
   "source": [
    "# Fitting Random Forest to the Training set\n",
    "from sklearn.ensemble import RandomForestClassifier\n",
    "rf_classifier = RandomForestClassifier(n_estimators = 1000, criterion = 'entropy', random_state = 42)\n",
    "\n",
    "rf_classifier.fit(X_train, y_train)"
   ]
  },
  {
   "cell_type": "code",
   "execution_count": null,
   "metadata": {},
   "outputs": [],
   "source": [
    "# Predicting the Test Set Results\n",
    "y_predict=rf_classifier.predict(X_test)\n",
    "print('\\nPredicted positions: ', y_predict)"
   ]
  },
  {
   "cell_type": "code",
   "execution_count": null,
   "metadata": {},
   "outputs": [],
   "source": [
    "#Calculating Accuracy Score of the Classifier Model\n",
    "from sklearn.metrics import accuracy_score\n",
    "rf_accuracy=accuracy_score(y_test, y_predict)\n",
    "print('\\nThe Models Accuracy is', rf_accuracy)"
   ]
  },
  {
   "cell_type": "markdown",
   "metadata": {},
   "source": [
    "# Training for y2"
   ]
  },
  {
   "cell_type": "markdown",
   "metadata": {},
   "source": [
    "## Train Test Split"
   ]
  },
  {
   "cell_type": "code",
   "execution_count": null,
   "metadata": {},
   "outputs": [],
   "source": [
    "X_train, X_test, y_train, y_test = train_test_split(X,y2,test_size=0.2, random_state= 42)"
   ]
  },
  {
   "cell_type": "markdown",
   "metadata": {},
   "source": [
    "### K-NN"
   ]
  },
  {
   "cell_type": "code",
   "execution_count": null,
   "metadata": {},
   "outputs": [],
   "source": [
    "# Fitting K-NN to the Training set\n",
    "from sklearn.neighbors import KNeighborsClassifier\n",
    "knn_classifier = KNeighborsClassifier(n_neighbors = 5)\n",
    "\n",
    "knn_classifier.fit(X_train, y_train)"
   ]
  },
  {
   "cell_type": "code",
   "execution_count": null,
   "metadata": {},
   "outputs": [],
   "source": [
    "# Predicting the Test Set Results\n",
    "y_predict=knn_classifier.predict(X_test)\n",
    "print('\\nPredicted positions: ', y_predict)"
   ]
  },
  {
   "cell_type": "code",
   "execution_count": null,
   "metadata": {},
   "outputs": [],
   "source": [
    "#Calculating Accuracy Score of the Classifier Model\n",
    "from sklearn.metrics import accuracy_score\n",
    "knn_accuracy=accuracy_score(y_test, y_predict)\n",
    "print('\\nThe Models Accuracy is', knn_accuracy)"
   ]
  },
  {
   "cell_type": "markdown",
   "metadata": {},
   "source": [
    "### SVM"
   ]
  },
  {
   "cell_type": "code",
   "execution_count": null,
   "metadata": {},
   "outputs": [],
   "source": [
    "# Fitting Kernel SVM to the Training set\n",
    "from sklearn.svm import SVC\n",
    "svm_classifier = SVC(kernel = 'rbf', random_state = 42, C=1000)\n",
    "\n",
    "svm_classifier.fit(X_train, y_train)"
   ]
  },
  {
   "cell_type": "code",
   "execution_count": null,
   "metadata": {},
   "outputs": [],
   "source": [
    "# Predicting the Test Set Results\n",
    "y_predict=svm_classifier.predict(X_test)\n",
    "print('\\nPredicted positions: ', y_predict)"
   ]
  },
  {
   "cell_type": "code",
   "execution_count": null,
   "metadata": {},
   "outputs": [],
   "source": [
    "#Calculating Accuracy Score of the Classifier Model\n",
    "from sklearn.metrics import accuracy_score\n",
    "svm_accuracy=accuracy_score(y_test, y_predict)\n",
    "print('\\nThe Models Accuracy is', svm_accuracy)"
   ]
  },
  {
   "cell_type": "markdown",
   "metadata": {},
   "source": [
    "### Random Forest"
   ]
  },
  {
   "cell_type": "code",
   "execution_count": null,
   "metadata": {},
   "outputs": [],
   "source": [
    "# Fitting Random Forest to the Training set\n",
    "from sklearn.ensemble import RandomForestClassifier\n",
    "rf_classifier = RandomForestClassifier(n_estimators = 1000, criterion = 'entropy', random_state = 42)\n",
    "\n",
    "rf_classifier.fit(X_train, y_train)"
   ]
  },
  {
   "cell_type": "code",
   "execution_count": null,
   "metadata": {},
   "outputs": [],
   "source": [
    "# Predicting the Test Set Results\n",
    "y_predict=rf_classifier.predict(X_test)\n",
    "print('\\nPredicted positions: ', y_predict)"
   ]
  },
  {
   "cell_type": "code",
   "execution_count": null,
   "metadata": {},
   "outputs": [],
   "source": [
    "#Calculating Accuracy Score of the Classifier Model\n",
    "from sklearn.metrics import accuracy_score\n",
    "rf_accuracy=accuracy_score(y_test, y_predict)\n",
    "print('\\nThe Models Accuracy is', rf_accuracy)"
   ]
  }
 ],
 "metadata": {
  "kernelspec": {
   "display_name": "Python 3",
   "language": "python",
   "name": "python3"
  },
  "language_info": {
   "codemirror_mode": {
    "name": "ipython",
    "version": 3
   },
   "file_extension": ".py",
   "mimetype": "text/x-python",
   "name": "python",
   "nbconvert_exporter": "python",
   "pygments_lexer": "ipython3",
   "version": "3.6.4"
  }
 },
 "nbformat": 4,
 "nbformat_minor": 2
}
